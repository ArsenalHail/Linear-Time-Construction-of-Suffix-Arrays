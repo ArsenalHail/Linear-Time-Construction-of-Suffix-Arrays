{
  "cells": [
    {
      "cell_type": "markdown",
      "metadata": {
        "id": "FGYzdos2bMGM"
      },
      "source": [
        "<hr style=\"height:5px;border-width:2;color:gray;background-color:#000000\">\n",
        "<center><h1>CS 144 - Winter 2024 - Linear-Time Construction of Suffix Arrays</h1></center>\n",
        "<center><h1>Due: Sunday, March 17th, 2024 @ 11:59pm</h1></center>"
      ]
    },
    {
      "cell_type": "markdown",
      "metadata": {
        "id": "hwb0anLCbMGO"
      },
      "source": [
        "### Enter your information below:\n",
        "\n",
        "<div style=\"color: #000000;background-color: #EEEEFF\">\n",
        "    Your Name (submitter): Alex Camilleri <br>\n",
        "    Your student ID (submitter): 862196968\n",
        "<br>\n",
        "<br>\n",
        "<b>By submitting this notebook, I assert that the work below is my own work, completed for this course.  Except where explicitly cited, none of the portions of this notebook are duplicated from anyone else's work or my own previous work.</b>\n",
        "<br>    \n",
        "<br>\n",
        "<b>Instruction for submissions:</B> when you have completed this project, download this .ipynb file to your computer by left-clicking on the file name, and submit to <a href=\"https://elearn.ucr.edu/\">Canvas</A> by the deadline.\n",
        "<br>\n",
        "<br>\n",
        "<B>Late work:</B> There is no late deadline for the final project, except for the most serious circumstances (illness, medical emergency, etc.) which have to be documented.\n",
        "</div>\n"
      ]
    },
    {
      "cell_type": "markdown",
      "metadata": {
        "id": "jt9_6pGUbMGP"
      },
      "source": [
        "<hr style=\"height:5px;border-width:2;color:gray;background-color:#000000\">\n",
        "<center><h1>The Skew algorithm</h1></center>\n",
        "<br>\n",
        "In this project you will implement the construction of suffix arrays in linear-time. This algorithm was <B>not</B> explained in class. Part of this project is to understand how the algorithm works before starting the implementation.  Here is some resources:\n",
        "<UL>\n",
        "    <li><A HREF=\"https://www.cs.cmu.edu/~guyb/realworld/papersS04/KaSa03.pdf\">The paper in which the algorithm was originally proposed (includes C code)</A></li>\n",
        "    <li><A HREF=\"http://www.mi.fu-berlin.de/wiki/pub/ABI/SS13Lecture3Materials/script.pdf\">Another description of the algorithm (notation heavy) with an example</A></li>\n",
        "    <li><A HREF=\"https://gist.github.com/markormesher/59b990fba09972b4737e7ed66912e044\">An example</A></li>\n",
        "    <li><A HREF=\"https://github.com/vikasawadhiya/DC3-Algorithm/blob/main/DC3AlgorithmTutorial.pdf\">Another example, developed all the way</A>\n",
        "    <li><A HREF=\"https://www.cs.cmu.edu/~ckingsf/bioinfo-lectures/suffixarrays.pdf\">Carl's slide (CMU)</A></li>\n",
        "    <li><A HREF=\"http://rob-p.github.io/CSE549F17/lectures/Lec05.pdf\">Rob's slides (Stony Brook)</A></li>\n",
        "    <li><A HREF=\"https://mailund.dk/posts/skew-python-go/\">Thomas Mailund's post on Skew in GO and Python</A>\n",
        "    <li><A HREF=\"https://www.youtube.com/watch?v=XiuSW_mEn7g\">Radix Sort Algorithm Introduction in 5 Minutes</A></li>\n",
        "    <li><A HREF=\"https://www.youtube.com/watch?v=OKd534EWcdk\">Learn Counting Sort Algorithm in LESS THAN 6 MINUTES!</A></li>\n",
        "    <li><A HREF=\"https://www.youtube.com/watch?v=T8XgD40I6uE\">COMP526 6-7 §6.6 Linear-time suffix sorting</A></li>\n",
        "    <li><A HREF=\"https://www.youtube.com/watch?v=phErzt2C9g8\">COMP526 6-8 §6.6 Linear time suffix sorting (part 2)</A></li>\n",
        "    <li>Use <A HREF=\"https://www.google.com/search?q=suffix+array+linear+time+construction\">Google</A> for more</li>\n",
        "</UL>\n",
        "\n",
        "Goals:\n",
        "<UL>\n",
        "    <LI>Write a working (bug-free) Python3 implementation of the Skew algorithm in JupyterHub that runs in linear time</LI>\n",
        "    <LI>Make sure that the output of your implementation matches the output for the naive/slow implementation that we developed in homework 3</LI>\n",
        "    <LI>Collect experimental results on running your implementation for larger and larger inputs, say 1000, 2000, 5000, 10000, 100000 symbols, and plot the running time as a function of the input size</LI>\n",
        "    <LI>Compare the performance of your methods against with some <A HREF=\"https://louisabraham.github.io/notebooks/suffix_arrays.html\">fast Python implementations</A></li>\n",
        "</UL>\n",
        "\n",
        "You just need to compute the suffix array, not the LCP (longest common prefix) array.\n",
        "You are allowed to study C/C++ code, but you have to write your own Python code. It is mandatory to acknowledge sources.\n"
      ]
    },
    {
      "cell_type": "code",
      "execution_count": null,
      "metadata": {
        "id": "eGmzrBQAbMGP",
        "outputId": "e5aa9f2a-bad1-4c83-f78a-138564ce7529"
      },
      "outputs": [
        {
          "name": "stdout",
          "output_type": "stream",
          "text": [
            "[15, 14, 0, 1, 12, 6, 4, 2, 8, 13, 3, 7, 9, 10, 11, 5]\n",
            "0.005694150924682617\n"
          ]
        }
      ],
      "source": [
        "import time\n",
        "\n",
        "def triplet(x, i):\n",
        "    return (safe_idx(x, i), safe_idx(x, i + 1), safe_idx(x, i + 2))\n",
        "\n",
        "def rank(x, idx):   # Create rank\n",
        "    rank_dict = {}\n",
        "    for i in idx:\n",
        "        k_string = triplet(x, i)\n",
        "        if k_string not in rank_dict:\n",
        "            rank_dict[k_string] = len(rank_dict) + 2      # 1 and 2 used for string separation\n",
        "    #print(\"Rank in rank_dict:\",rank_dict)\n",
        "    return rank_dict\n",
        "\n",
        "def u_idx(i, m) -> int:\n",
        "    # indices in u-string are matched back to the original string - helps recursive check for duplicates\n",
        "    if i < m: return 1 + 3 * i\n",
        "    else: return 2 + 3 * (i - m - 1)\n",
        "\n",
        "def less(x, i, j, ISA):\n",
        "    a, b = safe_idx(x, i), safe_idx(x, j)\n",
        "    if a < b: return True\n",
        "    if a > b: return False\n",
        "    if i % 3 != 0 and j % 3 != 0: return ISA[i] < ISA[j]\n",
        "    return less(x, i + 1, j + 1, ISA)\n",
        "\n",
        "def build_u(x, alpha):\n",
        "    # Make u string - partition (1) at len(u) // 2.\n",
        "        # u = S1 indexs + S2 indexs\n",
        "    return [ *(alpha[triplet(x, i)] for i in range(1, len(x), 3)), 1, *(alpha[triplet(x, i)] for i in range(2, len(x), 3)) ]\n",
        "\n",
        "def safe_idx(x, i):\n",
        "    return 0 if i >= len(x) else x[i] #prevents indexing past x\n",
        "\n",
        "def char_freq(x, asize):\n",
        "    # frequency\n",
        "    counts = [0] * asize\n",
        "    for c in x:\n",
        "        counts[c] += 1\n",
        "    return counts\n",
        "\n",
        "\n",
        "def sum(counts):\n",
        "    res, acc = [0] * len(counts), 0\n",
        "    for i, k in enumerate(counts):\n",
        "        res[i] = acc\n",
        "        acc += k\n",
        "    return res\n",
        "\n",
        "\n",
        "def bucket_sort(x, asize, idx, offset = 0):              # Uses instead of counting sort, helps for detecting duplicates w/ buckets\n",
        "    # idx has indices, sorted with offset and count of symbols\n",
        "    sort_symbs = [safe_idx(x, i + offset) for i in idx]\n",
        "    counts = char_freq(sort_symbs, asize)\n",
        "    buckets = sum(counts)\n",
        "    out = [None] * len(idx)\n",
        "    for i in idx:\n",
        "        bucket = safe_idx(x, i + offset)\n",
        "        out[buckets[bucket]] = i\n",
        "        buckets[bucket] += 1\n",
        "    return out\n",
        "\n",
        "def radix_sort(x, p, arr): # Bucket sort is better than count sort - organizes for duplicates - p is array size, x is range for the string\n",
        "    for i in reversed(range(3)):\n",
        "        arr = bucket_sort(x, p, arr, i)\n",
        "    return arr\n",
        "\n",
        "def skew(x, asize):\n",
        "    #print(\"Skew start x:\",x,\"-- asize:\",asize)\n",
        "    SA12 = [i for i in range(len(x)) if i % 3 != 0]\n",
        "    SA12 = radix_sort(x, asize, SA12)\n",
        "    rank_dict = rank(x, SA12)\n",
        "    if len(rank_dict) < len(SA12):\n",
        "        u = build_u(x, rank_dict)    # u-string = S1 + S2 ranks\n",
        "        #print(\"u =\",u)\n",
        "        sa_u = skew(u, len(rank_dict) + 2) # +2 because 0 is used as stop char for indexing through string - 1 is used as separator - recursive skew call\n",
        "        # u represents all strings from SA12 but at 2/3rds n size,\n",
        "\n",
        "        # Then map u's suffix array back to a sorted SA12\n",
        "        m = len(sa_u) // 2\n",
        "        SA12 = [u_idx(i, m) for i in sa_u if i != m]\n",
        "\n",
        "    SA3 = ([len(x) - 1] if len(x) % 3 == 1 else []) + \\\n",
        "          [i - 1 for i in SA12 if i % 3 == 1]\n",
        "    SA3 = bucket_sort(x, asize, SA3) # If the last index refers to class 0, treat it as the smallest string - bucket sort SA3\n",
        "\n",
        "    # Merge S12 and S3\n",
        "    ISA = { SA12[i]: i for i in range(len(SA12)) }\n",
        "    SA = []\n",
        "    i, j = 0, 0\n",
        "    while i < len(SA12) and j < len(SA3):\n",
        "        if less(x, SA12[i], SA3[j], ISA):\n",
        "            SA.append(SA12[i])\n",
        "            i += 1\n",
        "        else:\n",
        "            SA.append(SA3[j])\n",
        "            j += 1\n",
        "    SA.extend(SA12[i:])\n",
        "    SA.extend(SA3[j:])\n",
        "    return SA\n",
        "\n",
        "start = time.time()\n",
        "\n",
        "f = open(\"test.txt\", \"r\")         # open the file\n",
        "text = f.readline().strip()            # text is on the first line\n",
        "s = skew([ord(y) for y in text], 256) # Convert to ascii string and call skew algorithm\n",
        "print(s)\n",
        "\n",
        "end = time.time()\n",
        "print(end - start)"
      ]
    },
    {
      "cell_type": "markdown",
      "metadata": {
        "id": "5hBdbSjJbMGR"
      },
      "source": [
        "Credit to https://mailund.dk/posts/skew-python-go/ for the fix for duplicate suffixes in the radix array and handling them recursively. Most code based off of both Mark Ormesher's explanation (https://gist.github.com/markormesher/59b990fba09972b4737e7ed66912e044) and Thomas Mailund's blog for skew method in linear time.|"
      ]
    },
    {
      "cell_type": "markdown",
      "metadata": {
        "id": "SQxEDNj7bMGR"
      },
      "source": [
        "Test in linear time for sequences created using UCR's Random DNA sequence generator by Morris F. Maduro:\n",
        "1000: 0.020137310028076172,\n",
        "2000: 0.03774142265319824,\n",
        "5000: 0.07602787017822266,\n",
        "10000: 0.141556978225708,\n",
        "100000: 1.3828442096710205."
      ]
    },
    {
      "cell_type": "markdown",
      "metadata": {
        "id": "qTz6EL4kbMGS"
      },
      "source": [
        "<img src=\"cs144-chart.png\">"
      ]
    },
    {
      "cell_type": "markdown",
      "metadata": {
        "id": "bxWsVZL8bMGS"
      },
      "source": [
        "From https://louisabraham.github.io/articles/suffix-arrays, a chunk of the implementations for suffix arrays reach well over O(n) runtime. Some causes of this are how merge natively requires at least O(n log n) runtime. Prefix doubling takes O(n log n^2) time, and even if it is shorter, prefix matrices takes O(n log n) time. Computing the longest common prefix unfortunately doesn't produce a faster runtime. The only method that achieves a runtime of O(n) other than the skew algorithm is using suffix-tree-to-suffix-array conversion, but it has a high constant for runtime. Compared to all of these methods, while the skew method doesn't allow for simple computation, its runtime is phenominally small and allows for quick calculation of long sequences. This is due to the recursive skew call being a fraction of the string passed in, as well as computing 3-string suffixes of 'modulo 3 = 1' and 'modulo 3 = 2' for bucket sort separate from suffixes of 'modulo 3 = 0' and merging them afterwards, having a runtime of T(N) = T(2N/3) + O(n)."
      ]
    },
    {
      "cell_type": "code",
      "execution_count": null,
      "metadata": {
        "id": "ZojVG7HcbMGS"
      },
      "outputs": [],
      "source": []
    }
  ],
  "metadata": {
    "kernelspec": {
      "display_name": "UCR CS 144",
      "language": "python",
      "name": "cs144_spring2021"
    },
    "language_info": {
      "codemirror_mode": {
        "name": "ipython",
        "version": 3
      },
      "file_extension": ".py",
      "mimetype": "text/x-python",
      "name": "python",
      "nbconvert_exporter": "python",
      "pygments_lexer": "ipython3",
      "version": "3.8.5"
    },
    "colab": {
      "provenance": []
    }
  },
  "nbformat": 4,
  "nbformat_minor": 0
}